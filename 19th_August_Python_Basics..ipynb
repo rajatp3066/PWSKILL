{
 "cells": [
  {
   "cell_type": "markdown",
   "id": "4dff0427",
   "metadata": {},
   "source": [
    "### Topic: Python Basic Variable"
   ]
  },
  {
   "cell_type": "markdown",
   "id": "fd82aae4",
   "metadata": {},
   "source": [
    "1. Declare two variables, `x` and `y`, and assign them integer values. Swap the\n",
    "values of these variables without using any temporary variable."
   ]
  },
  {
   "cell_type": "code",
   "execution_count": 1,
   "id": "e88605bb",
   "metadata": {},
   "outputs": [],
   "source": [
    "x = 5\n",
    "y = 9\n",
    "\n",
    "x = x+y\n",
    "y = x-y\n",
    "x = x-y"
   ]
  },
  {
   "cell_type": "code",
   "execution_count": 2,
   "id": "013ee047",
   "metadata": {},
   "outputs": [
    {
     "data": {
      "text/plain": [
       "9"
      ]
     },
     "execution_count": 2,
     "metadata": {},
     "output_type": "execute_result"
    }
   ],
   "source": [
    "x"
   ]
  },
  {
   "cell_type": "code",
   "execution_count": 3,
   "id": "0d6ce59d",
   "metadata": {},
   "outputs": [
    {
     "data": {
      "text/plain": [
       "5"
      ]
     },
     "execution_count": 3,
     "metadata": {},
     "output_type": "execute_result"
    }
   ],
   "source": [
    "y"
   ]
  },
  {
   "cell_type": "markdown",
   "id": "bc22e4c3",
   "metadata": {},
   "source": [
    "2. Create a program that calculates the area of a rectangle. Take the length and\n",
    "width as inputs from the user and store them in variables. Calculate and\n",
    "display the area."
   ]
  },
  {
   "cell_type": "code",
   "execution_count": 4,
   "id": "d96e7d0d",
   "metadata": {},
   "outputs": [
    {
     "name": "stdout",
     "output_type": "stream",
     "text": [
      "Enter length: 4\n",
      "Enter width: 5\n",
      "Area of Reactangle is: 20\n"
     ]
    }
   ],
   "source": [
    "l = int(input(\"Enter length: \"))\n",
    "w = int(input(\"Enter width: \"))\n",
    "\n",
    "area= l*w\n",
    "print(f'Area of Reactangle is: {area}')\n"
   ]
  },
  {
   "cell_type": "markdown",
   "id": "b68bb3f5",
   "metadata": {},
   "source": [
    "3. Write a Python program that converts temperatures from Celsius to\n",
    "Fahrenheit. Take the temperature in Celsius as input, store it in a variable,\n",
    "convert it to Fahrenheit, and display the result."
   ]
  },
  {
   "cell_type": "code",
   "execution_count": 5,
   "id": "55c6db35",
   "metadata": {},
   "outputs": [
    {
     "name": "stdout",
     "output_type": "stream",
     "text": [
      "Enter Temperature in Celsius:25\n",
      "The temperature in fahrenheit is :77.0\n"
     ]
    }
   ],
   "source": [
    "cel = float(input(\"Enter Temperature in Celsius:\"))\n",
    "\n",
    "fahrenheit = (cel*9/5)+32\n",
    "print(f'The temperature in fahrenheit is :{fahrenheit}')\n"
   ]
  },
  {
   "cell_type": "markdown",
   "id": "c53bbd93",
   "metadata": {},
   "source": [
    "### String Based Questions"
   ]
  },
  {
   "cell_type": "markdown",
   "id": "ce675025",
   "metadata": {},
   "source": [
    "1. Write a Python program that takes a string as input and prints the length of\n",
    "the string."
   ]
  },
  {
   "cell_type": "code",
   "execution_count": 6,
   "id": "eddc4cb9",
   "metadata": {},
   "outputs": [
    {
     "name": "stdout",
     "output_type": "stream",
     "text": [
      "Enter a string:Rajat\n",
      "The length of string is:5\n"
     ]
    }
   ],
   "source": [
    "a = (input(\"Enter a string:\"))\n",
    "l =len(a)\n",
    "print(f\"The length of string is:{l}\")"
   ]
  },
  {
   "cell_type": "markdown",
   "id": "d0a789cc",
   "metadata": {},
   "source": [
    "2.Create a program that takes a sentence from the user and counts the number\n",
    "of vowels (a, e, i, o, u) in the string."
   ]
  },
  {
   "cell_type": "code",
   "execution_count": 8,
   "id": "41d30263",
   "metadata": {},
   "outputs": [
    {
     "name": "stdout",
     "output_type": "stream",
     "text": [
      "ENter an sentence: Rajat\n",
      "a 2\n",
      "e 0\n",
      "i 0\n",
      "o 0\n",
      "u 0\n"
     ]
    }
   ],
   "source": [
    "data = str(input(\"ENter an sentence: \"))\n",
    "vowels = \"aeiou\"\n",
    "for v in vowels:\n",
    "    print(v,data.lower().count(v))"
   ]
  },
  {
   "cell_type": "markdown",
   "id": "44a9e8fd",
   "metadata": {},
   "source": [
    "3. Given a string, reverse the order of characters using string slicing and print\n",
    "the reversed string."
   ]
  },
  {
   "cell_type": "code",
   "execution_count": 10,
   "id": "b47379f4",
   "metadata": {},
   "outputs": [
    {
     "name": "stdout",
     "output_type": "stream",
     "text": [
      "Enter and string: Rajat\n",
      "tajaR\n"
     ]
    }
   ],
   "source": [
    "str= input(\"Enter and string: \")\n",
    "reverse_str = str[::-1]\n",
    "print(reverse_str)"
   ]
  },
  {
   "cell_type": "markdown",
   "id": "e3efeb32",
   "metadata": {},
   "source": [
    "4. Write a program that takes a string as input and checks if it is a palindrome\n",
    "(reads the same forwards and backwards)."
   ]
  },
  {
   "cell_type": "code",
   "execution_count": 16,
   "id": "5e022504",
   "metadata": {},
   "outputs": [
    {
     "name": "stdout",
     "output_type": "stream",
     "text": [
      "Enter and string: Madam\n",
      "madam\n",
      "Written string is palindrome\n"
     ]
    }
   ],
   "source": [
    "input_str= input(\"Enter and string: \")\n",
    "output_str= \"\"\n",
    "\n",
    "for char in input_str:\n",
    "    if char != \" \":\n",
    "        output_str +=char.lower()\n",
    "        \n",
    "print(output_str)\n",
    "\n",
    "input_str= output_str[::-1]\n",
    "if input_str == output_str:\n",
    "    print(\"Written string is palindrome\")\n",
    "else:\n",
    "    print(\"Written string is not palindrome\")\n"
   ]
  },
  {
   "cell_type": "markdown",
   "id": "409dc41d",
   "metadata": {},
   "source": [
    "5.Create a program that takes a string as input and removes all the spaces from\n",
    "it. Print the modified string without spaces."
   ]
  },
  {
   "cell_type": "code",
   "execution_count": 17,
   "id": "c12c4216",
   "metadata": {},
   "outputs": [
    {
     "name": "stdout",
     "output_type": "stream",
     "text": [
      "Enter and string: Rajat Patel\n",
      "rajatpatel\n"
     ]
    }
   ],
   "source": [
    "input_str= input(\"Enter and string: \")\n",
    "output_str= \"\"\n",
    "\n",
    "for char in input_str:\n",
    "    if char != \" \":\n",
    "        output_str +=char.lower()\n",
    "        \n",
    "print(output_str)"
   ]
  },
  {
   "cell_type": "code",
   "execution_count": null,
   "id": "3e91f52d",
   "metadata": {},
   "outputs": [],
   "source": []
  }
 ],
 "metadata": {
  "kernelspec": {
   "display_name": "Python 3 (ipykernel)",
   "language": "python",
   "name": "python3"
  },
  "language_info": {
   "codemirror_mode": {
    "name": "ipython",
    "version": 3
   },
   "file_extension": ".py",
   "mimetype": "text/x-python",
   "name": "python",
   "nbconvert_exporter": "python",
   "pygments_lexer": "ipython3",
   "version": "3.7.6"
  }
 },
 "nbformat": 4,
 "nbformat_minor": 5
}
